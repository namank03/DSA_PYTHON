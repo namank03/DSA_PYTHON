{
 "cells": [
  {
   "cell_type": "markdown",
   "metadata": {},
   "source": [
    "# Fibonacci number"
   ]
  },
  {
   "cell_type": "code",
   "execution_count": 11,
   "metadata": {},
   "outputs": [
    {
     "data": {
      "text/plain": [
       "5"
      ]
     },
     "execution_count": 11,
     "metadata": {},
     "output_type": "execute_result"
    }
   ],
   "source": [
    "# 1,1,2,3,5,8,13,21...\n",
    "def fibnumber(n):\n",
    "    # Base case as the 1st 2 numbers of the fibonacci series are 1\n",
    "    if n <= 2:\n",
    "        return 1\n",
    "    return fibnumber(n - 1) + fibnumber(n - 2)\n",
    "\n",
    "\n",
    "fibnumber(5)\n"
   ]
  },
  {
   "cell_type": "markdown",
   "metadata": {},
   "source": [
    "#### Memorization version"
   ]
  },
  {
   "cell_type": "code",
   "execution_count": 15,
   "metadata": {},
   "outputs": [
    {
     "data": {
      "text/plain": [
       "5"
      ]
     },
     "execution_count": 15,
     "metadata": {},
     "output_type": "execute_result"
    }
   ],
   "source": [
    "# Few Tips -\n",
    "# 1. If we're getting None + int error then we probably want to check the return value. There must be a case where we're not returning  any value and therefore None is getting passed on the call stack above\n",
    "\n",
    "# 1,1,2,3,5,8,13,21...\n",
    "def fibnumber(n, memo= {}):\n",
    "    # If the number is seen before and is available in the memo, then take the value from the memo and return\n",
    "    if n in memo:\n",
    "        return memo[n]\n",
    "    # Base case as the 1st 2 numbers of the fibonacci series are 1\n",
    "    if n <= 2:\n",
    "        return 1\n",
    "    # store the answer in the memo\n",
    "    memo[n] = fibnumber(n - 1, memo) + fibnumber(n - 2, memo)\n",
    "    # return the answer from the memo\n",
    "    return memo[n]\n",
    "\n",
    "fibnumber(5)\n"
   ]
  },
  {
   "cell_type": "markdown",
   "metadata": {},
   "source": [
    "# Grid  Traveler"
   ]
  },
  {
   "cell_type": "code",
   "execution_count": 16,
   "metadata": {},
   "outputs": [
    {
     "name": "stdout",
     "output_type": "stream",
     "text": [
      "1\n",
      "3\n",
      "3\n",
      "6\n"
     ]
    }
   ],
   "source": [
    "#! It's more like a fibonacci series only\n",
    "def gridTravellerBasic(r, c):\n",
    "    if r == 1 or c == 1:\n",
    "        return 1\n",
    "\n",
    "    if r == 0 or c == 0:\n",
    "        return 0\n",
    "\n",
    "    return gridTravellerBasic(r - 1, c) + gridTravellerBasic(r, c - 1)\n",
    "\n",
    "\n",
    "print(gridTravellerBasic(1, 2))\n",
    "print(gridTravellerBasic(2, 3))\n",
    "print(gridTravellerBasic(3, 2))\n",
    "print(gridTravellerBasic(3, 3))\n"
   ]
  },
  {
   "cell_type": "markdown",
   "metadata": {},
   "source": [
    "#### memorization version"
   ]
  },
  {
   "cell_type": "code",
   "execution_count": 20,
   "metadata": {},
   "outputs": [
    {
     "name": "stdout",
     "output_type": "stream",
     "text": [
      "1\n",
      "3\n",
      "3\n",
      "6\n"
     ]
    }
   ],
   "source": [
    "#! It's more like a fibonacci series only\n",
    "def gridTravellerBasic(r, c, memo = {}):\n",
    "    if (r, c) in memo:\n",
    "        return memo[(r,c)]\n",
    "    if r == 1 and c == 1:\n",
    "        return 1\n",
    "\n",
    "    if r == 0 or c == 0:\n",
    "        return 0\n",
    "\n",
    "    memo[(r,c)] =  gridTravellerBasic(r - 1, c, memo) + gridTravellerBasic(r, c - 1, memo)\n",
    "    return memo[(r,c)]\n",
    "\n",
    "\n",
    "print(gridTravellerBasic(1, 2))\n",
    "print(gridTravellerBasic(2, 3))\n",
    "print(gridTravellerBasic(3, 2))\n",
    "print(gridTravellerBasic(3, 3))\n"
   ]
  },
  {
   "cell_type": "code",
   "execution_count": null,
   "metadata": {},
   "outputs": [],
   "source": []
  }
 ],
 "metadata": {
  "interpreter": {
   "hash": "14820eecd3a0838528088fdb4307533525e188c28fe04f594beb216afdcab9b3"
  },
  "kernelspec": {
   "display_name": "Python 3.9.7 64-bit ('venv': venv)",
   "name": "python3"
  },
  "language_info": {
   "codemirror_mode": {
    "name": "ipython",
    "version": 3
   },
   "file_extension": ".py",
   "mimetype": "text/x-python",
   "name": "python",
   "nbconvert_exporter": "python",
   "pygments_lexer": "ipython3",
   "version": "3.9.7"
  },
  "orig_nbformat": 4
 },
 "nbformat": 4,
 "nbformat_minor": 2
}
