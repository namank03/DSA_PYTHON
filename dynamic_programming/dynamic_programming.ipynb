{
 "cells": [
  {
   "cell_type": "markdown",
   "metadata": {},
   "source": [
    "# Fibonacci number"
   ]
  },
  {
   "cell_type": "code",
   "execution_count": 11,
   "metadata": {},
   "outputs": [
    {
     "data": {
      "text/plain": [
       "5"
      ]
     },
     "execution_count": 11,
     "metadata": {},
     "output_type": "execute_result"
    }
   ],
   "source": [
    "# 1,1,2,3,5,8,13,21...\n",
    "def fibnumber(n):\n",
    "    # Base case as the 1st 2 numbers of the fibonacci series are 1\n",
    "    if n <= 2:\n",
    "        return 1\n",
    "    return fibnumber(n - 1) + fibnumber(n - 2)\n",
    "\n",
    "\n",
    "fibnumber(5)\n"
   ]
  },
  {
   "cell_type": "markdown",
   "metadata": {},
   "source": [
    "#### Memorization version"
   ]
  },
  {
   "cell_type": "code",
   "execution_count": 15,
   "metadata": {},
   "outputs": [
    {
     "data": {
      "text/plain": [
       "5"
      ]
     },
     "execution_count": 15,
     "metadata": {},
     "output_type": "execute_result"
    }
   ],
   "source": [
    "# Few Tips -\n",
    "# 1. If we're getting None + int error then we probably want to check the return value. There must be a case where we're not returning  any value and therefore None is getting passed on the call stack above\n",
    "\n",
    "# 1,1,2,3,5,8,13,21...\n",
    "def fibnumber(n, memo= {}):\n",
    "    # If the number is seen before and is available in the memo, then take the value from the memo and return\n",
    "    if n in memo:\n",
    "        return memo[n]\n",
    "    # Base case as the 1st 2 numbers of the fibonacci series are 1\n",
    "    if n <= 2:\n",
    "        return 1\n",
    "    # ! remember this the trick to memorization is to save the value in memo before returning it\n",
    "    # store the answer in the memo\n",
    "    memo[n] = fibnumber(n - 1, memo) + fibnumber(n - 2, memo)\n",
    "    # return the answer from the memo\n",
    "    return memo[n]\n",
    "\n",
    "fibnumber(5)\n"
   ]
  },
  {
   "cell_type": "markdown",
   "metadata": {},
   "source": [
    "# Grid  Traveler"
   ]
  },
  {
   "cell_type": "code",
   "execution_count": 16,
   "metadata": {},
   "outputs": [
    {
     "name": "stdout",
     "output_type": "stream",
     "text": [
      "1\n",
      "3\n",
      "3\n",
      "6\n"
     ]
    }
   ],
   "source": [
    "#! It's more like a fibonacci series only\n",
    "def gridTravellerBasic(r, c):\n",
    "    if r == 1 or c == 1:\n",
    "        return 1\n",
    "\n",
    "    if r == 0 or c == 0:\n",
    "        return 0\n",
    "\n",
    "    return gridTravellerBasic(r - 1, c) + gridTravellerBasic(r, c - 1)\n",
    "\n",
    "\n",
    "print(gridTravellerBasic(1, 2))\n",
    "print(gridTravellerBasic(2, 3))\n",
    "print(gridTravellerBasic(3, 2))\n",
    "print(gridTravellerBasic(3, 3))\n"
   ]
  },
  {
   "cell_type": "markdown",
   "metadata": {},
   "source": [
    "#### memorization version"
   ]
  },
  {
   "cell_type": "code",
   "execution_count": 20,
   "metadata": {},
   "outputs": [
    {
     "name": "stdout",
     "output_type": "stream",
     "text": [
      "1\n",
      "3\n",
      "3\n",
      "6\n"
     ]
    }
   ],
   "source": [
    "#! It's more like a fibonacci series only\n",
    "def gridTravellerBasic(r, c, memo = {}):\n",
    "    if (r, c) in memo:\n",
    "        return memo[(r,c)]\n",
    "    if r == 1 and c == 1:\n",
    "        return 1\n",
    "\n",
    "    if r == 0 or c == 0:\n",
    "        return 0\n",
    "\n",
    "    # ! remember this the trick to memorization is to save the value in memo before returning it\n",
    "    memo[(r,c)] =  gridTravellerBasic(r - 1, c, memo) + gridTravellerBasic(r, c - 1, memo)\n",
    "    return memo[(r,c)]\n",
    "\n",
    "\n",
    "print(gridTravellerBasic(1, 2))\n",
    "print(gridTravellerBasic(2, 3))\n",
    "print(gridTravellerBasic(3, 2))\n",
    "print(gridTravellerBasic(3, 3))\n"
   ]
  },
  {
   "cell_type": "markdown",
   "metadata": {},
   "source": [
    "# CanSum"
   ]
  },
  {
   "cell_type": "code",
   "execution_count": 25,
   "metadata": {},
   "outputs": [
    {
     "name": "stdout",
     "output_type": "stream",
     "text": [
      "True\n"
     ]
    }
   ],
   "source": [
    "def cansum(target, num_arr):\n",
    "    if target < 0:\n",
    "        return False\n",
    "\n",
    "    if target == 0:\n",
    "        return True\n",
    "\n",
    "    for i in num_arr:\n",
    "        return cansum(target - i, num_arr)\n",
    "\n",
    "\n",
    "result = cansum(7, [1, 4])\n",
    "print(result)"
   ]
  },
  {
   "cell_type": "code",
   "execution_count": 28,
   "metadata": {},
   "outputs": [
    {
     "name": "stdout",
     "output_type": "stream",
     "text": [
      "True\n"
     ]
    }
   ],
   "source": [
    "#! Optimization via returning early.\n",
    "def cansum(target, num_arr):\n",
    "    if target < 0:\n",
    "        return False\n",
    "\n",
    "    if target == 0:\n",
    "        return True\n",
    "\n",
    "    for i in num_arr:\n",
    "        # as we have specified in the basecase the return value is either true or false. Meaning if any one of the recursive call hit the base case True then we can stop the recursion and return early.\n",
    "        remainder = target - i\n",
    "        if cansum(remainder, num_arr):\n",
    "            return True\n",
    "\n",
    "    return False\n",
    "\n",
    "\n",
    "result = cansum(7, [3, 2])\n",
    "print(result)\n"
   ]
  },
  {
   "cell_type": "code",
   "execution_count": 30,
   "metadata": {},
   "outputs": [
    {
     "name": "stdout",
     "output_type": "stream",
     "text": [
      "True\n"
     ]
    }
   ],
   "source": [
    "#! Optimization via returning early.\n",
    "def cansum(target, num_arr, memo = {}):\n",
    "    if target < 0:\n",
    "        return False\n",
    "\n",
    "    if target == 0:\n",
    "        return True\n",
    "    \n",
    "    if target in memo:\n",
    "        return memo[target]\n",
    "\n",
    "    for i in num_arr:\n",
    "        # as we have specified in the basecase the return value is either true or false. Meaning if any one of the recursive call hit the base case True then we can stop the recursion and return early.\n",
    "        remainder = target - i\n",
    "        if cansum(remainder, num_arr):\n",
    "            # ! remember this the trick to memorization is to save the value in memo before returning it\n",
    "            memo[target] = True\n",
    "            return True\n",
    "    # ! remember this the trick to memorization is to save the value in memo before returning it\n",
    "    memo[target] = False\n",
    "    return False\n",
    "\n",
    "\n",
    "result = cansum(7, [3, 2])\n",
    "print(result)\n"
   ]
  },
  {
   "cell_type": "markdown",
   "metadata": {},
   "source": [
    "# HOWSUM"
   ]
  },
  {
   "cell_type": "code",
   "execution_count": 33,
   "metadata": {},
   "outputs": [
    {
     "name": "stdout",
     "output_type": "stream",
     "text": [
      "[2, 2, 3]\n"
     ]
    }
   ],
   "source": [
    "def howsum(target, num_arr):\n",
    "    if target < 0:\n",
    "        return None\n",
    "\n",
    "    if target == 0:\n",
    "        #! whenever we want to evaluate the path or the values used to obtain the final result, we 1st start with the empty list and then add the values to this empty list when the solution is found.\n",
    "        return []\n",
    "\n",
    "    for i in num_arr:\n",
    "        # as we have specified in the basecase the return value is either true or false. Meaning if any one of the recursive call hit the base case True then we can stop the recursion and return early.\n",
    "        remainder = target - i\n",
    "        remainderResult = howsum(remainder, num_arr)\n",
    "        if remainderResult is not None:\n",
    "            #! if remainderResult is non None that means we've evaluated the soultion and now we can add the result\n",
    "            remainderResult.append(i)\n",
    "            return remainderResult\n",
    "\n",
    "    return None\n",
    "\n",
    "\n",
    "result = howsum(7, [3, 2])\n",
    "print(result)\n"
   ]
  },
  {
   "cell_type": "code",
   "execution_count": 2,
   "metadata": {},
   "outputs": [
    {
     "data": {
      "text/plain": [
       "[[1, 1], [2]]"
      ]
     },
     "execution_count": 2,
     "metadata": {},
     "output_type": "execute_result"
    }
   ],
   "source": [
    "[[1,1]] + [[2]]"
   ]
  },
  {
   "cell_type": "code",
   "execution_count": null,
   "metadata": {},
   "outputs": [],
   "source": []
  }
 ],
 "metadata": {
  "interpreter": {
   "hash": "14820eecd3a0838528088fdb4307533525e188c28fe04f594beb216afdcab9b3"
  },
  "kernelspec": {
   "display_name": "Python 3.9.7 64-bit ('venv': venv)",
   "name": "python3"
  },
  "language_info": {
   "codemirror_mode": {
    "name": "ipython",
    "version": 3
   },
   "file_extension": ".py",
   "mimetype": "text/x-python",
   "name": "python",
   "nbconvert_exporter": "python",
   "pygments_lexer": "ipython3",
   "version": "3.9.7"
  },
  "orig_nbformat": 4
 },
 "nbformat": 4,
 "nbformat_minor": 2
}
